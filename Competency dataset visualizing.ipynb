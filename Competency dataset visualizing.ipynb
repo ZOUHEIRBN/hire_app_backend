{
 "cells": [
  {
   "cell_type": "code",
   "execution_count": 13,
   "metadata": {},
   "outputs": [],
   "source": [
    "import pandas as pd\n",
    "from matplotlib import pyplot as plt\n",
    "import json"
   ]
  },
  {
   "cell_type": "code",
   "execution_count": 46,
   "metadata": {},
   "outputs": [
    {
     "data": {
      "text/plain": [
       "{10: [6, 8, 7, 5, 0.0, 8, 0.0, '5e92f8b03bc187865692b519']}"
      ]
     },
     "execution_count": 46,
     "metadata": {},
     "output_type": "execute_result"
    }
   ],
   "source": [
    "with open('competency.json', 'r') as f:\n",
    "    comp_dict_data = json.loads(f.read())\n",
    "    \n",
    "df = pd.DataFrame(comp_dict_data)\n",
    "df = df[sorted(df.columns.tolist())]\n",
    "df = df.fillna(int(0))\n",
    "values = df.values\n",
    "dict((v[0], [n for n in v[1:]]) for v in values)"
   ]
  },
  {
   "cell_type": "code",
   "execution_count": 44,
   "metadata": {},
   "outputs": [
    {
     "data": {
      "text/html": [
       "<div>\n",
       "<style scoped>\n",
       "    .dataframe tbody tr th:only-of-type {\n",
       "        vertical-align: middle;\n",
       "    }\n",
       "\n",
       "    .dataframe tbody tr th {\n",
       "        vertical-align: top;\n",
       "    }\n",
       "\n",
       "    .dataframe thead th {\n",
       "        text-align: right;\n",
       "    }\n",
       "</style>\n",
       "<table border=\"1\" class=\"dataframe\">\n",
       "  <thead>\n",
       "    <tr style=\"text-align: right;\">\n",
       "      <th></th>\n",
       "      <th>Arabic</th>\n",
       "      <th>Data processing (Pandas)</th>\n",
       "      <th>English</th>\n",
       "      <th>French</th>\n",
       "      <th>Java Development</th>\n",
       "      <th>Machine Learning</th>\n",
       "      <th>Python Developmnet (Django/Flask)</th>\n",
       "      <th>WebSockets</th>\n",
       "      <th>profile_id</th>\n",
       "    </tr>\n",
       "  </thead>\n",
       "  <tbody>\n",
       "    <tr>\n",
       "      <th>0</th>\n",
       "      <td>10</td>\n",
       "      <td>6</td>\n",
       "      <td>10</td>\n",
       "      <td>4</td>\n",
       "      <td>10</td>\n",
       "      <td>0.0</td>\n",
       "      <td>8</td>\n",
       "      <td>0.0</td>\n",
       "      <td>5e92f8b03bc187865692b517</td>\n",
       "    </tr>\n",
       "    <tr>\n",
       "      <th>1</th>\n",
       "      <td>10</td>\n",
       "      <td>6</td>\n",
       "      <td>8</td>\n",
       "      <td>7</td>\n",
       "      <td>5</td>\n",
       "      <td>0.0</td>\n",
       "      <td>8</td>\n",
       "      <td>0.0</td>\n",
       "      <td>5e92f8b03bc187865692b518</td>\n",
       "    </tr>\n",
       "    <tr>\n",
       "      <th>2</th>\n",
       "      <td>10</td>\n",
       "      <td>6</td>\n",
       "      <td>8</td>\n",
       "      <td>7</td>\n",
       "      <td>5</td>\n",
       "      <td>0.0</td>\n",
       "      <td>8</td>\n",
       "      <td>0.0</td>\n",
       "      <td>5e92f8b03bc187865692b519</td>\n",
       "    </tr>\n",
       "  </tbody>\n",
       "</table>\n",
       "</div>"
      ],
      "text/plain": [
       "   Arabic  Data processing (Pandas)  English  French  Java Development  \\\n",
       "0      10                         6       10       4                10   \n",
       "1      10                         6        8       7                 5   \n",
       "2      10                         6        8       7                 5   \n",
       "\n",
       "   Machine Learning  Python Developmnet (Django/Flask)  WebSockets  \\\n",
       "0               0.0                                  8         0.0   \n",
       "1               0.0                                  8         0.0   \n",
       "2               0.0                                  8         0.0   \n",
       "\n",
       "                 profile_id  \n",
       "0  5e92f8b03bc187865692b517  \n",
       "1  5e92f8b03bc187865692b518  \n",
       "2  5e92f8b03bc187865692b519  "
      ]
     },
     "execution_count": 44,
     "metadata": {},
     "output_type": "execute_result"
    }
   ],
   "source": []
  },
  {
   "cell_type": "code",
   "execution_count": null,
   "metadata": {},
   "outputs": [],
   "source": []
  }
 ],
 "metadata": {
  "kernelspec": {
   "display_name": "Python 3",
   "language": "python",
   "name": "python3"
  },
  "language_info": {
   "codemirror_mode": {
    "name": "ipython",
    "version": 3
   },
   "file_extension": ".py",
   "mimetype": "text/x-python",
   "name": "python",
   "nbconvert_exporter": "python",
   "pygments_lexer": "ipython3",
   "version": "3.6.8"
  }
 },
 "nbformat": 4,
 "nbformat_minor": 2
}
