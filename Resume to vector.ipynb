{
 "cells": [
  {
   "cell_type": "code",
   "execution_count": 1,
   "metadata": {},
   "outputs": [],
   "source": [
    "from pymongo import MongoClient\n",
    "from bson import ObjectId\n",
    "import pandas as pd\n",
    "import json\n",
    "import time, datetime\n",
    "\n",
    "import numpy as np\n",
    "import math\n",
    "import gensim\n",
    "from scipy import spatial\n",
    "\n",
    "\n",
    "#Loading Database\n",
    "client = MongoClient(port=27017)\n",
    "database = client[\"HireApp\"]"
   ]
  },
  {
   "cell_type": "markdown",
   "metadata": {},
   "source": [
    "# Global getters"
   ]
  },
  {
   "cell_type": "markdown",
   "metadata": {},
   "source": [
    "These functions fetch the whole database to find any academic, professionnal experience as well as skills and languages? The goal is to build a standard format vector for the sake of comparison"
   ]
  },
  {
   "cell_type": "code",
   "execution_count": 2,
   "metadata": {},
   "outputs": [],
   "source": [
    "#Get all academic\n",
    "def get_all_academic():\n",
    "    _ac = [x['resume']['academic_cursus'] for x in database['users'].find({}) if 'resume' in x.keys() and 'academic_cursus' in x['resume'].keys()]\n",
    "    all_ac = []\n",
    "    for e in _ac:\n",
    "        all_ac.extend([x['title'] for x in e])\n",
    "        \n",
    "    _ac = [x['requiredDegrees'] for x in database['posts'].find({}) if 'requiredDegrees' in x.keys()]\n",
    "    for e in _ac:\n",
    "        all_ac.extend([x['option'] for x in e])\n",
    "\n",
    "    return sorted(list(set(all_ac)))"
   ]
  },
  {
   "cell_type": "code",
   "execution_count": 3,
   "metadata": {},
   "outputs": [],
   "source": [
    "#Get all experiences\n",
    "def get_all_experiences():\n",
    "    _xps = [x['resume']['professionnal_cursus'] for x in database['users'].find({}) if 'resume' in x.keys() and 'professionnal_cursus' in x['resume'].keys()]\n",
    "    all_xps = []\n",
    "    for e in _xps:\n",
    "        all_xps.extend([x['title'] for x in e])\n",
    "        \n",
    "    _xps = [x['requiredExp'] for x in database['posts'].find({}) if 'requiredExp' in x.keys()]\n",
    "    for e in _xps:\n",
    "        all_xps.extend([x['title'] for x in e])\n",
    "\n",
    "    return sorted(list(set(all_xps)))    "
   ]
  },
  {
   "cell_type": "code",
   "execution_count": 4,
   "metadata": {},
   "outputs": [],
   "source": [
    "#Get all skills\n",
    "def get_all_skills():\n",
    "    _skills = [x['resume']['skills'] for x in database['users'].find({}) if 'resume' in x.keys() and 'skills' in x['resume'].keys()]\n",
    "    all_skills = []\n",
    "    for e in _skills:\n",
    "        all_skills.extend([x['skill'] for x in e])\n",
    "        \n",
    "    _skills = [x['requiredSkills'] for x in database['posts'].find({}) if 'requiredSkills' in x.keys()]\n",
    "    for e in _skills:\n",
    "        all_skills.extend([x['skill'] for x in e])\n",
    "\n",
    "    return sorted(list(set(all_skills)))"
   ]
  },
  {
   "cell_type": "code",
   "execution_count": 5,
   "metadata": {},
   "outputs": [],
   "source": [
    "#Get all languages\n",
    "def get_all_languages():\n",
    "    _languages = [x['resume']['languages'] for x in database['users'].find({}) if 'resume' in x.keys() and 'languages' in x['resume'].keys()]\n",
    "    all_languages = []\n",
    "    for e in _languages:\n",
    "        all_languages.extend([x['lang'] for x in e])\n",
    "        \n",
    "    _languages = [x['requiredLanguages'] for x in database['posts'].find({}) if 'requiredLanguages' in x.keys()]\n",
    "    for e in _languages:\n",
    "        all_languages.extend([x['lang'] for x in e])\n",
    "\n",
    "    return sorted(list(set(all_languages)))"
   ]
  },
  {
   "cell_type": "markdown",
   "metadata": {},
   "source": [
    "# Evaluating user by his resume"
   ]
  },
  {
   "cell_type": "markdown",
   "metadata": {},
   "source": [
    "To have an idea about user's ability to excel at the post, we need to evaluate his CV by parsing their skills, languages, academic and professional experiences to vectors and comparing them to the offer in question"
   ]
  },
  {
   "cell_type": "code",
   "execution_count": 6,
   "metadata": {},
   "outputs": [],
   "source": [
    "def user_academic_to_vector(resume):\n",
    "    def evaluate_bac_plus(x):\n",
    "        if x['degree'] == 'PHD':\n",
    "            return 7\n",
    "        elif x['degree'] in ['MBA', 'Master', 'Engineer']:\n",
    "            return 5\n",
    "        elif x['degree'] in ['Bachelor', 'Technicien Spécialisé']:\n",
    "            return 3\n",
    "        elif x['degree'] in ['DEUG', 'Technicien']:\n",
    "            return 2\n",
    "            \n",
    "        return 0\n",
    "        \n",
    "    _ac = dict((x, 0) for x in get_all_academic())\n",
    "    u_ac = dict((x['title'], evaluate_bac_plus(x)) for x in resume['academic_cursus'])\n",
    "    _ac.update(u_ac)\n",
    "    return np.array(list(_ac.values()))"
   ]
  },
  {
   "cell_type": "code",
   "execution_count": 7,
   "metadata": {},
   "outputs": [],
   "source": [
    "def user_experience_to_vector(resume):\n",
    "    def calculate_exp_duration(x): \n",
    "        begin_date = datetime.datetime.strptime(x['begin_date'],\"%Y-%m-%dT%X.%fZ\").timetuple()\n",
    "        end_date = datetime.datetime.strptime(x['end_date'],\"%Y-%m-%dT%X.%fZ\").timetuple()\n",
    "\n",
    "        xp_years = (end_date.tm_year - begin_date.tm_year) + (end_date.tm_mon - begin_date.tm_mon)/12\n",
    "\n",
    "        return round(xp_years, 1)\n",
    "    \n",
    "    _xp = dict((x, 0) for x in get_all_experiences())\n",
    "    u_xp = dict((x['title'], calculate_exp_duration(x)) for x in resume['professionnal_cursus'])\n",
    "    _xp.update(u_xp)\n",
    "    return np.array(list(_xp.values()))"
   ]
  },
  {
   "cell_type": "code",
   "execution_count": 8,
   "metadata": {},
   "outputs": [],
   "source": [
    "def user_lang_to_vector(resume):\n",
    "    _lang = dict((x, 0) for x in get_all_languages())\n",
    "    u_lang = dict((x['lang'], x['level']) for x in resume['languages'])\n",
    "    _lang.update(u_lang)\n",
    "    return np.array(list(_lang.values()))"
   ]
  },
  {
   "cell_type": "code",
   "execution_count": 9,
   "metadata": {},
   "outputs": [],
   "source": [
    "def user_skills_to_vector(resume):\n",
    "    _skill = dict((x, 0) for x in get_all_skills())\n",
    "    u_skill = dict((x['skill'], x['level']) for x in resume['skills'])\n",
    "    _skill.update(u_skill)\n",
    "    return np.array(list(_skill.values()))"
   ]
  },
  {
   "cell_type": "markdown",
   "metadata": {},
   "source": [
    "# Evaluating a job offer"
   ]
  },
  {
   "cell_type": "code",
   "execution_count": 10,
   "metadata": {},
   "outputs": [],
   "source": [
    "def job_academic_to_vector(job):\n",
    "    j_dict = dict((x, 0) for x in get_all_academic())\n",
    "    j_ac = dict((x['option'], x['level']) for x in job['requiredDegrees'])\n",
    "    j_dict.update(j_ac)\n",
    "    return np.array(list(j_dict.values()))"
   ]
  },
  {
   "cell_type": "code",
   "execution_count": 11,
   "metadata": {},
   "outputs": [],
   "source": [
    "def job_experience_to_vector(job):\n",
    "    j_dict = dict((x, 0) for x in get_all_experiences())\n",
    "    j_xp = dict((x['title'], x['level']) for x in job['requiredExp'])\n",
    "    j_dict.update(j_xp)\n",
    "    return np.array(list(j_dict.values()))"
   ]
  },
  {
   "cell_type": "code",
   "execution_count": 12,
   "metadata": {},
   "outputs": [],
   "source": [
    "def job_lang_to_vector(job):\n",
    "    j_dict = dict((x, 0) for x in get_all_languages())\n",
    "    j_xp = dict((x['lang'], x['level']) for x in job['requiredLanguages'])\n",
    "    j_dict.update(j_xp)\n",
    "    return np.array(list(j_dict.values()))"
   ]
  },
  {
   "cell_type": "code",
   "execution_count": 13,
   "metadata": {},
   "outputs": [],
   "source": [
    "def job_skills_to_vector(job):\n",
    "    j_dict = dict((x, 0) for x in get_all_skills())\n",
    "    j_xp = dict((x['skill'], x['level']) for x in job['requiredSkills'])\n",
    "    j_dict.update(j_xp)\n",
    "    return np.array(list(j_dict.values()))"
   ]
  },
  {
   "cell_type": "markdown",
   "metadata": {},
   "source": [
    "# Building comparison dictionnaries"
   ]
  },
  {
   "cell_type": "markdown",
   "metadata": {},
   "source": [
    "Dict data structures containing vectors for academic, experience, skills and languages converted to vectors\n",
    "Applicable to JobOffer and Resume obejct types"
   ]
  },
  {
   "cell_type": "code",
   "execution_count": 14,
   "metadata": {},
   "outputs": [],
   "source": [
    "def resume_to_vector(user_id):\n",
    "    v = {}\n",
    "    resume = dict(database['users'].find_one({'_id': ObjectId(user_id)}))['resume']\n",
    "    v['academic'] = user_academic_to_vector(resume)\n",
    "    v['experience'] = user_experience_to_vector(resume)\n",
    "    v['lang'] = user_lang_to_vector(resume)\n",
    "    v['skills'] = user_skills_to_vector(resume)\n",
    "    return v"
   ]
  },
  {
   "cell_type": "code",
   "execution_count": 15,
   "metadata": {},
   "outputs": [
    {
     "data": {
      "text/plain": [
       "{'academic': array([0, 0, 0, 0, 0, 0, 0, 0, 2]),\n",
       " 'experience': array([0, 0, 0, 1, 0]),\n",
       " 'lang': array([0, 0, 0]),\n",
       " 'skills': array([0, 0, 0, 0, 0, 0, 0, 0, 0, 0, 0, 0, 0, 0, 0, 2, 0, 0, 3])}"
      ]
     },
     "execution_count": 15,
     "metadata": {},
     "output_type": "execute_result"
    }
   ],
   "source": [
    "def job_to_vector(post_id):\n",
    "    v = {}\n",
    "    job = dict(database['posts'].find_one({'_id': ObjectId(post_id)}))\n",
    "    v['academic'] = job_academic_to_vector(job)\n",
    "    v['experience'] = job_experience_to_vector(job)\n",
    "    v['lang'] = job_lang_to_vector(job)\n",
    "    v['skills'] = job_skills_to_vector(job)\n",
    "    return v\n",
    "\n",
    "job_to_vector('5e92f8b03bc187865692b516')"
   ]
  },
  {
   "cell_type": "markdown",
   "metadata": {},
   "source": [
    "# Comparators"
   ]
  },
  {
   "cell_type": "code",
   "execution_count": 16,
   "metadata": {},
   "outputs": [],
   "source": [
    "def academic_compare(res_a, res_b):\n",
    "    if len(res_a['academic']) != len(res_b['academic']):\n",
    "        throw('Unequal vectors exception')\n",
    "    \n",
    "    i = 0\n",
    "    a  = list(res_a['academic'])\n",
    "    b  = list(res_b['academic'])\n",
    "    while i < len(a):\n",
    "        if a[i] == 0 and b[i] == 0:\n",
    "            a.pop(i)\n",
    "            b.pop(i)\n",
    "        i = i + 1\n",
    "    \n",
    "    if np.linalg.norm(a) == 0 or np.linalg.norm(b) == 0:\n",
    "        return 1.\n",
    "        \n",
    "    value = spatial.distance.cosine(a, b)\n",
    "    return value"
   ]
  },
  {
   "cell_type": "code",
   "execution_count": 17,
   "metadata": {},
   "outputs": [],
   "source": [
    "def experience_compare(res_a, res_b):\n",
    "    if len(res_a['experience']) != len(res_b['experience']):\n",
    "        throw('Unequal vectors exception')\n",
    "    \n",
    "    i = 0\n",
    "    a  = list(res_a['experience'])\n",
    "    b  = list(res_b['experience'])\n",
    "    while i < len(a):\n",
    "        if a[i] == 0 and b[i] == 0:\n",
    "            a.pop(i)\n",
    "            b.pop(i)\n",
    "        i = i + 1\n",
    "        \n",
    "    if np.linalg.norm(a) == 0 or np.linalg.norm(b) == 0:\n",
    "        return 1.\n",
    "        \n",
    "    value = spatial.distance.cosine(a, b)\n",
    "    return value"
   ]
  },
  {
   "cell_type": "code",
   "execution_count": 18,
   "metadata": {},
   "outputs": [],
   "source": [
    "def lang_compare(res_a, res_b):\n",
    "    if len(res_a['lang']) != len(res_b['lang']):\n",
    "        throw('Unequal vectors exception')\n",
    "    \n",
    "    i = 0\n",
    "    a  = list(res_a['lang'])\n",
    "    b  = list(res_b['lang'])\n",
    "    while i < len(a):\n",
    "        if a[i] == 0 and b[i] == 0:\n",
    "            a.pop(i)\n",
    "            b.pop(i)\n",
    "        i = i + 1\n",
    "        \n",
    "    if np.linalg.norm(a) == 0 or np.linalg.norm(b) == 0:\n",
    "        return 1.\n",
    "    \n",
    "    value = spatial.distance.cosine(a, b)\n",
    "    return value if value != np.nan else 1"
   ]
  },
  {
   "cell_type": "code",
   "execution_count": 19,
   "metadata": {},
   "outputs": [],
   "source": [
    "def skills_compare(res_a, res_b):\n",
    "    if len(res_a['skills']) != len(res_b['skills']):\n",
    "        throw('Unequal vectors exception')\n",
    "    \n",
    "    i = 0\n",
    "    a  = list(res_a['skills'])\n",
    "    b  = list(res_b['skills'])\n",
    "    while i < len(a):\n",
    "        if a[i] == 0 and b[i] == 0:\n",
    "            a.pop(i)\n",
    "            b.pop(i)\n",
    "        i = i + 1\n",
    "        \n",
    "    if np.linalg.norm(a) == 0 or np.linalg.norm(b) == 0:\n",
    "        return 1.\n",
    "    \n",
    "    value = spatial.distance.cosine(a, b)\n",
    "    return value"
   ]
  },
  {
   "cell_type": "markdown",
   "metadata": {},
   "source": [
    "Comparison methods\n",
    "<ul>\n",
    "<li>User to User</li>\n",
    "<li>User to Offer</li>\n",
    "<li>Company to User</li>\n",
    "<li>Company to Company</li>\n",
    "</ul>"
   ]
  },
  {
   "cell_type": "code",
   "execution_count": 28,
   "metadata": {},
   "outputs": [
    {
     "data": {
      "text/plain": [
       "0.685437049920216"
      ]
     },
     "execution_count": 28,
     "metadata": {},
     "output_type": "execute_result"
    }
   ],
   "source": [
    "#User similarity\n",
    "def user_to_user(user_a, user_b):\n",
    "    res_a, res_b = resume_to_vector(user_a), resume_to_vector(user_b)\n",
    "    comparison = {}\n",
    "    comparison['academic'] = academic_compare(res_a, res_b)\n",
    "    comparison['experience'] = experience_compare(res_a, res_b)\n",
    "    comparison['lang'] = lang_compare(res_a, res_b)\n",
    "    comparison['skills'] = skills_compare(res_a, res_b)\n",
    "    return 1 - np.mean(list(comparison.values()))\n",
    "\n",
    "user_to_user('5e92f8b03bc187865692b519', '5e92f8b03bc187865692b517')"
   ]
  },
  {
   "cell_type": "code",
   "execution_count": 30,
   "metadata": {},
   "outputs": [
    {
     "data": {
      "text/plain": [
       "0.011969778551569443"
      ]
     },
     "execution_count": 30,
     "metadata": {},
     "output_type": "execute_result"
    }
   ],
   "source": [
    "#Match score\n",
    "def user_to_offer(user, job):\n",
    "    res_a, res_b = resume_to_vector(user), job_to_vector(job)\n",
    "    comparison = {}\n",
    "    comparison['academic'] = academic_compare(res_a, res_b)\n",
    "    comparison['experience'] = experience_compare(res_a, res_b)\n",
    "    comparison['lang'] = lang_compare(res_a, res_b)\n",
    "    comparison['skills'] = skills_compare(res_a, res_b)\n",
    "    return 1 - np.mean(list(comparison.values()))\n",
    "\n",
    "user_to_offer('5e92f8b03bc187865692b517', '5e92f8b03bc187865692b516')"
   ]
  },
  {
   "cell_type": "code",
   "execution_count": null,
   "metadata": {},
   "outputs": [],
   "source": [
    "def company_to_user(company, user):\n",
    "    res_a, res_b = resume_to_vector(user), job_to_vector(job)\n",
    "    comparison = {}\n",
    "    comparison['academic'] = academic_compare(res_a, res_b)\n",
    "    comparison['experience'] = experience_compare(res_a, res_b)\n",
    "    comparison['lang'] = lang_compare(res_a, res_b)\n",
    "    comparison['skills'] = skills_compare(res_a, res_b)\n",
    "    return 1 - np.mean(list(comparison.values()))\n",
    "\n",
    "user_to_offer('5e92f8b03bc187865692b517', '5e92f8b03bc187865692b516')"
   ]
  },
  {
   "cell_type": "code",
   "execution_count": null,
   "metadata": {},
   "outputs": [],
   "source": []
  }
 ],
 "metadata": {
  "kernelspec": {
   "display_name": "Python 3",
   "language": "python",
   "name": "python3"
  },
  "language_info": {
   "codemirror_mode": {
    "name": "ipython",
    "version": 3
   },
   "file_extension": ".py",
   "mimetype": "text/x-python",
   "name": "python",
   "nbconvert_exporter": "python",
   "pygments_lexer": "ipython3",
   "version": "3.6.8"
  }
 },
 "nbformat": 4,
 "nbformat_minor": 2
}
